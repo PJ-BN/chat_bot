{
 "cells": [
  {
   "cell_type": "code",
   "execution_count": 7,
   "id": "bc5f0c36",
   "metadata": {},
   "outputs": [],
   "source": [
    "import tensorflow as tf\n",
    "from tensorflow.keras import layers\n",
    "import pandas as pd\n",
    "import numpy as np\n",
    "import matplotlib.pyplot\n",
    "import json\n",
    "import spacy"
   ]
  },
  {
   "cell_type": "code",
   "execution_count": 8,
   "id": "dd1328c5",
   "metadata": {},
   "outputs": [],
   "source": [
    "nlp = spacy.load(\"en_core_web_sm\")"
   ]
  },
  {
   "cell_type": "code",
   "execution_count": 41,
   "id": "5a14b276",
   "metadata": {},
   "outputs": [
    {
     "data": {
      "text/plain": [
       "{'intends': [{'tag': ['greating'],\n",
       "   'question': ['hello', \"what's up\", 'hey'],\n",
       "   'answer': ['Hi!']},\n",
       "  {'tag': ['name'],\n",
       "   'question': ['what is your name',\n",
       "    'nam k ho',\n",
       "    'ko ho',\n",
       "    'ko hos',\n",
       "    'who are you'],\n",
       "   'answer': ['My name is Prajwal Bhandari']},\n",
       "  {'tag': ['health'],\n",
       "   'question': ['how are you', 'sanchai xau', 'sanchai', 'thikai'],\n",
       "   'answer': [\"Yes I'm fine!\"]},\n",
       "  {'tag': ['situation'],\n",
       "   'question': ['k xa',\n",
       "    'are you okay',\n",
       "    'how do you do',\n",
       "    'are you good',\n",
       "    'how is your study going on',\n",
       "    'padai kasto xa tw'],\n",
       "   'answer': ['Thikai!']},\n",
       "  {'tag': ['address'],\n",
       "   'question': ['where do you live', 'ka basxau', 'ghar kaha ho', 'ghar'],\n",
       "   'answer': ['I live in Tilottama, Nepal']},\n",
       "  {'tag': ['college'],\n",
       "   'question': ['where do you study', 'college', 'ka padxas', 'padxas'],\n",
       "   'answer': ['Nepathya College affiliated to Tribhuvan University']},\n",
       "  {'tag': ['education'],\n",
       "   'question': ['what do you study', 'k padxau'],\n",
       "   'answer': ['Bachelor in Computer Application(BCA)']}]}"
      ]
     },
     "execution_count": 41,
     "metadata": {},
     "output_type": "execute_result"
    }
   ],
   "source": [
    "d = open('data.json')\n",
    "json_data = json.load(d)\n",
    "json_data"
   ]
  },
  {
   "cell_type": "code",
   "execution_count": 42,
   "id": "9892d71f",
   "metadata": {},
   "outputs": [
    {
     "name": "stdout",
     "output_type": "stream",
     "text": [
      "hello\n",
      "what's up\n",
      "hey\n",
      "what is your name\n",
      "nam k ho\n",
      "ko ho\n",
      "ko hos\n",
      "who are you\n",
      "how are you\n",
      "sanchai xau\n",
      "sanchai\n",
      "thikai\n",
      "k xa\n",
      "are you okay\n",
      "how do you do\n",
      "are you good\n",
      "how is your study going on\n",
      "padai kasto xa tw\n",
      "where do you live\n",
      "ka basxau\n",
      "ghar kaha ho\n",
      "ghar\n",
      "where do you study\n",
      "college\n",
      "ka padxas\n",
      "padxas\n",
      "what do you study\n",
      "k padxau\n"
     ]
    }
   ],
   "source": [
    "ques = []\n",
    "document = []\n",
    "classes = []\n",
    "\n",
    "\n",
    "for intents in json_data['intends']:\n",
    "    for question in intents['question']:\n",
    "        print(question)\n",
    "        \n",
    "        doc = nlp(question.lower())\n",
    "        text = [token.lemma_ for token in doc]\n",
    "        \n",
    "       \n",
    "        ques.append(text)\n",
    "        document.append(( text, intents['tag']))\n",
    "\n",
    "        \n",
    "        \n",
    "    for question in intents['tag']:\n",
    "#         print(question)\n",
    "        if question not in list(classes):\n",
    "            classes.append(question)\n",
    "        "
   ]
  },
  {
   "cell_type": "code",
   "execution_count": 43,
   "id": "cb052c0c",
   "metadata": {},
   "outputs": [
    {
     "data": {
      "text/plain": [
       "[(['hello'], ['greating']),\n",
       " (['what', 'be', 'up'], ['greating']),\n",
       " (['hey'], ['greating']),\n",
       " (['what', 'be', 'your', 'name'], ['name']),\n",
       " (['nam', 'k', 'ho'], ['name']),\n",
       " (['ko', 'ho'], ['name']),\n",
       " (['ko', 'hos'], ['name']),\n",
       " (['who', 'be', 'you'], ['name']),\n",
       " (['how', 'be', 'you'], ['health']),\n",
       " (['sanchai', 'xau'], ['health']),\n",
       " (['sanchai'], ['health']),\n",
       " (['thikai'], ['health']),\n",
       " (['k', 'xa'], ['situation']),\n",
       " (['be', 'you', 'okay'], ['situation']),\n",
       " (['how', 'do', 'you', 'do'], ['situation']),\n",
       " (['be', 'you', 'good'], ['situation']),\n",
       " (['how', 'be', 'your', 'study', 'go', 'on'], ['situation']),\n",
       " (['padai', 'kasto', 'xa', 'tw'], ['situation']),\n",
       " (['where', 'do', 'you', 'live'], ['address']),\n",
       " (['ka', 'basxau'], ['address']),\n",
       " (['ghar', 'kaha', 'ho'], ['address']),\n",
       " (['ghar'], ['address']),\n",
       " (['where', 'do', 'you', 'study'], ['college']),\n",
       " (['college'], ['college']),\n",
       " (['ka', 'padxas'], ['college']),\n",
       " (['padxas'], ['college']),\n",
       " (['what', 'do', 'you', 'study'], ['education']),\n",
       " (['k', 'padxau'], ['education'])]"
      ]
     },
     "execution_count": 43,
     "metadata": {},
     "output_type": "execute_result"
    }
   ],
   "source": [
    "document"
   ]
  },
  {
   "cell_type": "code",
   "execution_count": 44,
   "id": "dcff9f09",
   "metadata": {},
   "outputs": [
    {
     "data": {
      "text/plain": [
       "['greating', 'name', 'health', 'situation', 'address', 'college', 'education']"
      ]
     },
     "execution_count": 44,
     "metadata": {},
     "output_type": "execute_result"
    }
   ],
   "source": [
    "classes"
   ]
  },
  {
   "cell_type": "code",
   "execution_count": null,
   "id": "dab08a84",
   "metadata": {},
   "outputs": [],
   "source": []
  }
 ],
 "metadata": {
  "kernelspec": {
   "display_name": "Python 3 (ipykernel)",
   "language": "python",
   "name": "python3"
  },
  "language_info": {
   "codemirror_mode": {
    "name": "ipython",
    "version": 3
   },
   "file_extension": ".py",
   "mimetype": "text/x-python",
   "name": "python",
   "nbconvert_exporter": "python",
   "pygments_lexer": "ipython3",
   "version": "3.11.2"
  }
 },
 "nbformat": 4,
 "nbformat_minor": 5
}
